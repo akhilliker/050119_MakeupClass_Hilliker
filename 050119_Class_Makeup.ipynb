{
 "cells": [
  {
   "cell_type": "markdown",
   "metadata": {},
   "source": [
    "# 05/01/19 Class Makeup- Angie Hilliker\n",
    "\n",
    "I missed class as I was traveling for work. I listened to the Panapto video from class, which started with a review of major concepts in javascript, including the concept of prototypes and some common methods of the prototype array.\n",
    "\n",
    "Drew (the instructor) also encouraged to be more methodical in writing our code, including: \n",
    "* don't rush to code, articulate what we want to do with our code in common language before diving into syntax\n",
    "* Break down the code in logical chunks that can be tested individually\n",
    "* Annotate the code well\n",
    "* think about how to streamline our code (examples: write functions, in line code, for/while loops, chaining)\n",
    "* So, on these activities, I will brainstorm the major steps of my code and include that in the activities we work on in class. "
   ]
  },
  {
   "cell_type": "markdown",
   "metadata": {},
   "source": [
    "We completed two exercises in class: Week 15> folder 2> activities > activity 04- 05\n",
    "\n",
    "Each activity is described below.  The code is in this folder and a screen shot of part of the code or its outcome is shown."
   ]
  },
  {
   "cell_type": "markdown",
   "metadata": {},
   "source": [
    "## Activity 04: Stu_Stocks\n",
    "\n",
    "Code files are included and called plots4.js and index4.html\n",
    "\n",
    "Activity premise: We learned how to use D3 to fetch JSON data from an API from quandl.  We pulled out specific data and stored it in variables.  Then we created traces to make a line plot showing the closing prices of the stock over time. This activity allows us to use d3.json, which will create a \"promise\" to fetch data. We chained .then() with a function to specific whihc data to store once it was fetched.\n",
    "\n",
    "Brainstorming of what to do in activity:\n",
    "* Make an API call- Plotly.d3.json\n",
    "* Use 'unpack' to select the data you want\n",
    "* Store the response in console log?\n",
    "* Clean up data if needed\n",
    "* code and configure your plot\n",
    "\n",
    "A screen shot of my DOM is shown here:\n",
    "![alt text](StuStock.png)"
   ]
  },
  {
   "cell_type": "markdown",
   "metadata": {},
   "source": [
    "## Activity 05: Stu_Stocks_Dynamic\n",
    "\n",
    "Code files are included and called plots5.js and index5.html\n",
    "\n",
    "Activity premise:  Make the site dynamic by allowing a user to input the stock they'd like to see data for.  Then the API call should only call the data for that stock and plot it.  Should be able to handle subsequent entries from the user. I'm still getting an error in my console (I think on console.log of the data), but the graph is working, so I'm calling it a victory for now.\n",
    "\n",
    "Brainstorming of what to do in activity:\n",
    "* Brainstorming steps for activity:\n",
    "* need an event handler for stock name (input from user)\n",
    "* upon click of button, event handler will call handleInput function\n",
    "* handleInput function will store stock name and execute buildPlot function \n",
    "    * need an empty string to store the input value\n",
    "    * need to empty the input so a new entry can be added\n",
    "* buildPlot function uses stock name as parameter and makes API call for data associated with stock\n",
    "* then builds the graph\n",
    "    * the same as activity 04\n",
    "\n",
    "A screen shot of my DOM is shown here (once for Carbonite stock and once for Google to show its dynamic):\n",
    "![alt text](StuStockDyn1.png)\n",
    "\n",
    "![alt text](StuStockDyn2.png)"
   ]
  },
  {
   "cell_type": "markdown",
   "metadata": {},
   "source": [
    "The original goal was to get through activity 08, but we ended up tackling those in the next class.  So, this completes my make up work for this class."
   ]
  }
 ],
 "metadata": {
  "kernelspec": {
   "display_name": "Python 3",
   "language": "python",
   "name": "python3"
  },
  "language_info": {
   "codemirror_mode": {
    "name": "ipython",
    "version": 3
   },
   "file_extension": ".py",
   "mimetype": "text/x-python",
   "name": "python",
   "nbconvert_exporter": "python",
   "pygments_lexer": "ipython3",
   "version": "3.7.1"
  }
 },
 "nbformat": 4,
 "nbformat_minor": 2
}
